{
 "cells": [
  {
   "cell_type": "code",
   "execution_count": 50,
   "id": "b8f64cbb",
   "metadata": {},
   "outputs": [],
   "source": [
    "#import libraries\n",
    "import re\n",
    "import csv"
   ]
  },
  {
   "cell_type": "code",
   "execution_count": 51,
   "id": "c8ee6580",
   "metadata": {},
   "outputs": [],
   "source": [
    "from collections import Counter"
   ]
  },
  {
   "cell_type": "code",
   "execution_count": null,
   "id": "159f3fa7",
   "metadata": {},
   "outputs": [],
   "source": [
    "#read log file"
   ]
  },
  {
   "cell_type": "code",
   "execution_count": 31,
   "id": "9ae8170c",
   "metadata": {},
   "outputs": [],
   "source": [
    "file = \"sample.log\"\n",
    "with open(file,'r') as file:\n",
    "    lines = file.readlines()"
   ]
  },
  {
   "cell_type": "markdown",
   "id": "6cba2e34",
   "metadata": {},
   "source": [
    "## (1) Count requests per IP Address"
   ]
  },
  {
   "cell_type": "code",
   "execution_count": null,
   "id": "88b9ff1b",
   "metadata": {},
   "outputs": [],
   "source": [
    "#extract ip addresses using regrex"
   ]
  },
  {
   "cell_type": "code",
   "execution_count": 32,
   "id": "64b1246d",
   "metadata": {},
   "outputs": [],
   "source": [
    "ip_pattern = r'\\b(?:[0-9]{1,3}\\.){3}[0-9]{1,3}\\b'"
   ]
  },
  {
   "cell_type": "code",
   "execution_count": 52,
   "id": "6f9c0330",
   "metadata": {},
   "outputs": [],
   "source": [
    "ip_addresses = [re.search(ip_pattern,i).group() for i in lines if re.search(ip_pattern,i)]"
   ]
  },
  {
   "cell_type": "code",
   "execution_count": 53,
   "id": "5ab14399",
   "metadata": {},
   "outputs": [],
   "source": [
    "#count the request per ip address"
   ]
  },
  {
   "cell_type": "code",
   "execution_count": 54,
   "id": "140c0411",
   "metadata": {},
   "outputs": [],
   "source": [
    "ip_count = Counter(ip_addresses)"
   ]
  },
  {
   "cell_type": "code",
   "execution_count": null,
   "id": "7abd9203",
   "metadata": {},
   "outputs": [],
   "source": [
    "#sorting and printing results"
   ]
  },
  {
   "cell_type": "code",
   "execution_count": 55,
   "id": "3268b226",
   "metadata": {},
   "outputs": [],
   "source": [
    "sorted_counts = sorted(ip_count.items(),key = lambda x: x[1],reverse=True)"
   ]
  },
  {
   "cell_type": "code",
   "execution_count": 56,
   "id": "d9a25fca",
   "metadata": {
    "scrolled": true
   },
   "outputs": [
    {
     "name": "stdout",
     "output_type": "stream",
     "text": [
      "IP Address          Request Count\n",
      "==============================\n",
      "203.0.113.5          8\n",
      "198.51.100.23        8\n",
      "192.168.1.1          7\n",
      "10.0.0.2             6\n",
      "192.168.1.100        5\n"
     ]
    }
   ],
   "source": [
    "print(f\"{'IP Address':<20}{'Request Count'}\")\n",
    "print(\"=\" * 30)\n",
    "for ip,count in sorted_counts:\n",
    "    print(f\"{ip:<20} {count}\")"
   ]
  },
  {
   "cell_type": "code",
   "execution_count": null,
   "id": "879599bf",
   "metadata": {},
   "outputs": [],
   "source": []
  },
  {
   "cell_type": "markdown",
   "id": "22b884e1",
   "metadata": {},
   "source": [
    "## (2) identifying most frequently accessed endpoints"
   ]
  },
  {
   "cell_type": "code",
   "execution_count": 40,
   "id": "8b8fd060",
   "metadata": {},
   "outputs": [],
   "source": [
    "#extract endpoints using regrex\n",
    "endpoint_pattern = r'\\\"[A-Z]+\\s(/[\\w\\-/.]*)'\n",
    "end_points = [re.search(endpoint_pattern,i).group(1) for i in lines if re.search(endpoint_pattern,i)]"
   ]
  },
  {
   "cell_type": "code",
   "execution_count": 41,
   "id": "73c6f79d",
   "metadata": {},
   "outputs": [],
   "source": [
    "#count endpoint access\n",
    "end_points_count = Counter(end_points)"
   ]
  },
  {
   "cell_type": "code",
   "execution_count": 42,
   "id": "df7f810f",
   "metadata": {},
   "outputs": [],
   "source": [
    "#find most frequently accessed endpoints\n",
    "most_accessed = end_points_count.most_common(1)[0]"
   ]
  },
  {
   "cell_type": "code",
   "execution_count": 43,
   "id": "4efda66c",
   "metadata": {},
   "outputs": [
    {
     "name": "stdout",
     "output_type": "stream",
     "text": [
      "Most frequently accessed endpoints: /login\n",
      "Accessed Count: 13\n"
     ]
    }
   ],
   "source": [
    "#result print\n",
    "print(f\"Most frequently accessed endpoints: {most_accessed[0]}\")\n",
    "print(f\"Accessed Count: {most_accessed[1]}\")"
   ]
  },
  {
   "cell_type": "markdown",
   "id": "cecf4625",
   "metadata": {},
   "source": [
    "## Detect suspicious activity"
   ]
  },
  {
   "cell_type": "code",
   "execution_count": 44,
   "id": "d54339a9",
   "metadata": {},
   "outputs": [],
   "source": [
    "threshold = 10"
   ]
  },
  {
   "cell_type": "code",
   "execution_count": null,
   "id": "39718ad1",
   "metadata": {},
   "outputs": [],
   "source": [
    "#log entries with HTTP status code 401 or message \"Invalid credentials\""
   ]
  },
  {
   "cell_type": "code",
   "execution_count": null,
   "id": "b9252b09",
   "metadata": {},
   "outputs": [],
   "source": [
    "failed_login_pattern = r'\\b401\\b|Invalid credentials'"
   ]
  },
  {
   "cell_type": "code",
   "execution_count": 45,
   "id": "d196cc1b",
   "metadata": {},
   "outputs": [],
   "source": [
    "failed_ip = [\n",
    "    re.search(r'\\b(?:[0-9]{1,3}\\.){3}[0-9]{1,3}\\b',i).group()\n",
    "    for i in lines if re.search(failed_login_pattern,i)\n",
    "]"
   ]
  },
  {
   "cell_type": "code",
   "execution_count": null,
   "id": "32a2e864",
   "metadata": {},
   "outputs": [],
   "source": [
    "#count failed ligin attempts per ip"
   ]
  },
  {
   "cell_type": "code",
   "execution_count": 46,
   "id": "206bed4c",
   "metadata": {},
   "outputs": [],
   "source": [
    "failed_counts = Counter(failed_ip)"
   ]
  },
  {
   "cell_type": "code",
   "execution_count": null,
   "id": "d983459e",
   "metadata": {},
   "outputs": [],
   "source": [
    "#ip exceeding threshold"
   ]
  },
  {
   "cell_type": "code",
   "execution_count": 47,
   "id": "f9a582b2",
   "metadata": {},
   "outputs": [],
   "source": [
    "suspicious_ip = {ip: count for ip,count in failed_counts.items() if count > threshold}"
   ]
  },
  {
   "cell_type": "code",
   "execution_count": null,
   "id": "98accd9d",
   "metadata": {},
   "outputs": [],
   "source": [
    "#print results"
   ]
  },
  {
   "cell_type": "code",
   "execution_count": 48,
   "id": "b95acc6b",
   "metadata": {},
   "outputs": [
    {
     "name": "stdout",
     "output_type": "stream",
     "text": [
      "No IPs exceeded the threshold of 10 failed login attempts.\n"
     ]
    }
   ],
   "source": [
    "if suspicious_ip:\n",
    "    print(f\"Suspicious IPs with more than {threshold} failed login attempts.\")\n",
    "    print(f\"{'IP Address':<20} {'Failed Attempts'}\")\n",
    "    print(\"=\" * 40)\n",
    "    for ip,count in suspicious_ip.items():\n",
    "        print(f\"{ip:<20} {count}\")\n",
    "else:\n",
    "    print(f\"No IPs exceeded the threshold of {threshold} failed login attempts.\")"
   ]
  },
  {
   "cell_type": "markdown",
   "id": "403c96db",
   "metadata": {},
   "source": [
    "## csv file"
   ]
  },
  {
   "cell_type": "code",
   "execution_count": 49,
   "id": "462cee29",
   "metadata": {},
   "outputs": [
    {
     "name": "stdout",
     "output_type": "stream",
     "text": [
      "\n",
      "Results saved to 'log_analysis_results.csv'\n"
     ]
    }
   ],
   "source": [
    "with open(\"log_analysis_results.csv\",'w',newline='') as csvfile:\n",
    "    writer = csv.writer(csvfile)\n",
    "    \n",
    "    \n",
    "    writer.writerow([\"Requests Per IP\"])\n",
    "    writer.writerow([\"IP Address\", \"Request Count\"])\n",
    "    for ip, count in ip_count.items():\n",
    "        writer.writerow([ip, count])\n",
    "        \n",
    "    writer.writerow([])\n",
    "    \n",
    "    writer.writerow([\"Most Accessed Endpoint\"])\n",
    "    writer.writerow([\"Endpoint\",\"Access Count\"])\n",
    "    writer.writerow(most_accessed)\n",
    "    \n",
    "    writer.writerow([])\n",
    "    \n",
    "    \n",
    "    writer.writerow([\"Suspicious Activity\"])\n",
    "    writer.writerow([\"IP Address\", \"Failed LOgin Count\"])\n",
    "    for ip, count in suspicious_ip.items():\n",
    "        writer.writerow([ip, count])\n",
    "print(\"\\nResults saved to 'log_analysis_results.csv'\")"
   ]
  }
 ],
 "metadata": {
  "kernelspec": {
   "display_name": "Python 3 (ipykernel)",
   "language": "python",
   "name": "python3"
  },
  "language_info": {
   "codemirror_mode": {
    "name": "ipython",
    "version": 3
   },
   "file_extension": ".py",
   "mimetype": "text/x-python",
   "name": "python",
   "nbconvert_exporter": "python",
   "pygments_lexer": "ipython3",
   "version": "3.11.5"
  }
 },
 "nbformat": 4,
 "nbformat_minor": 5
}
