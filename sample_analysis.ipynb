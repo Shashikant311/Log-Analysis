{
  "cells": [
    {
      "cell_type": "markdown",
      "metadata": {
        "id": "view-in-github",
        "colab_type": "text"
      },
      "source": [
        "<a href=\"https://colab.research.google.com/github/Shashikant311/Log-Analysis/blob/main/sample_analysis.ipynb\" target=\"_parent\"><img src=\"https://colab.research.google.com/assets/colab-badge.svg\" alt=\"Open In Colab\"/></a>"
      ]
    },
    {
      "cell_type": "code",
      "execution_count": null,
      "id": "b8f64cbb",
      "metadata": {
        "id": "b8f64cbb"
      },
      "outputs": [],
      "source": [
        "#import libraries\n",
        "import re\n",
        "import csv"
      ]
    },
    {
      "cell_type": "code",
      "execution_count": null,
      "id": "c8ee6580",
      "metadata": {
        "id": "c8ee6580"
      },
      "outputs": [],
      "source": [
        "from collections import Counter"
      ]
    },
    {
      "cell_type": "code",
      "execution_count": null,
      "id": "159f3fa7",
      "metadata": {
        "id": "159f3fa7"
      },
      "outputs": [],
      "source": [
        "#read log file"
      ]
    },
    {
      "cell_type": "code",
      "execution_count": null,
      "id": "9ae8170c",
      "metadata": {
        "id": "9ae8170c"
      },
      "outputs": [],
      "source": [
        "file = \"sample.log\"\n",
        "with open(file,'r') as file:\n",
        "    lines = file.readlines()"
      ]
    },
    {
      "cell_type": "markdown",
      "id": "6cba2e34",
      "metadata": {
        "id": "6cba2e34"
      },
      "source": [
        "## (1) Count requests per IP Address"
      ]
    },
    {
      "cell_type": "code",
      "execution_count": null,
      "id": "88b9ff1b",
      "metadata": {
        "id": "88b9ff1b"
      },
      "outputs": [],
      "source": [
        "#extract ip addresses using regrex"
      ]
    },
    {
      "cell_type": "code",
      "execution_count": null,
      "id": "64b1246d",
      "metadata": {
        "id": "64b1246d"
      },
      "outputs": [],
      "source": [
        "ip_pattern = r'\\b(?:[0-9]{1,3}\\.){3}[0-9]{1,3}\\b'"
      ]
    },
    {
      "cell_type": "code",
      "execution_count": null,
      "id": "6f9c0330",
      "metadata": {
        "id": "6f9c0330"
      },
      "outputs": [],
      "source": [
        "ip_addresses = [re.search(ip_pattern,i).group() for i in lines if re.search(ip_pattern,i)]"
      ]
    },
    {
      "cell_type": "code",
      "execution_count": null,
      "id": "5ab14399",
      "metadata": {
        "id": "5ab14399"
      },
      "outputs": [],
      "source": [
        "#count the request per ip address"
      ]
    },
    {
      "cell_type": "code",
      "execution_count": null,
      "id": "140c0411",
      "metadata": {
        "id": "140c0411"
      },
      "outputs": [],
      "source": [
        "ip_count = Counter(ip_addresses)"
      ]
    },
    {
      "cell_type": "code",
      "execution_count": null,
      "id": "7abd9203",
      "metadata": {
        "id": "7abd9203"
      },
      "outputs": [],
      "source": [
        "#sorting and printing results"
      ]
    },
    {
      "cell_type": "code",
      "execution_count": null,
      "id": "3268b226",
      "metadata": {
        "id": "3268b226"
      },
      "outputs": [],
      "source": [
        "sorted_counts = sorted(ip_count.items(),key = lambda x: x[1],reverse=True)"
      ]
    },
    {
      "cell_type": "code",
      "execution_count": null,
      "id": "d9a25fca",
      "metadata": {
        "scrolled": true,
        "id": "d9a25fca",
        "outputId": "0e5f07db-1c35-4a75-9bc1-1efc4c079a62"
      },
      "outputs": [
        {
          "name": "stdout",
          "output_type": "stream",
          "text": [
            "IP Address          Request Count\n",
            "==============================\n",
            "203.0.113.5          8\n",
            "198.51.100.23        8\n",
            "192.168.1.1          7\n",
            "10.0.0.2             6\n",
            "192.168.1.100        5\n"
          ]
        }
      ],
      "source": [
        "print(f\"{'IP Address':<20}{'Request Count'}\")\n",
        "print(\"=\" * 30)\n",
        "for ip,count in sorted_counts:\n",
        "    print(f\"{ip:<20} {count}\")"
      ]
    },
    {
      "cell_type": "code",
      "execution_count": null,
      "id": "879599bf",
      "metadata": {
        "id": "879599bf"
      },
      "outputs": [],
      "source": []
    },
    {
      "cell_type": "markdown",
      "id": "22b884e1",
      "metadata": {
        "id": "22b884e1"
      },
      "source": [
        "## (2) identifying most frequently accessed endpoints"
      ]
    },
    {
      "cell_type": "code",
      "execution_count": null,
      "id": "8b8fd060",
      "metadata": {
        "id": "8b8fd060"
      },
      "outputs": [],
      "source": [
        "#extract endpoints using regrex\n",
        "endpoint_pattern = r'\\\"[A-Z]+\\s(/[\\w\\-/.]*)'\n",
        "end_points = [re.search(endpoint_pattern,i).group(1) for i in lines if re.search(endpoint_pattern,i)]"
      ]
    },
    {
      "cell_type": "code",
      "execution_count": null,
      "id": "73c6f79d",
      "metadata": {
        "id": "73c6f79d"
      },
      "outputs": [],
      "source": [
        "#count endpoint access\n",
        "end_points_count = Counter(end_points)"
      ]
    },
    {
      "cell_type": "code",
      "execution_count": null,
      "id": "df7f810f",
      "metadata": {
        "id": "df7f810f"
      },
      "outputs": [],
      "source": [
        "#find most frequently accessed endpoints\n",
        "most_accessed = end_points_count.most_common(1)[0]"
      ]
    },
    {
      "cell_type": "code",
      "execution_count": null,
      "id": "4efda66c",
      "metadata": {
        "id": "4efda66c",
        "outputId": "ad88180c-b46b-409e-f045-f7a7a29ae7dd"
      },
      "outputs": [
        {
          "name": "stdout",
          "output_type": "stream",
          "text": [
            "Most frequently accessed endpoints: /login\n",
            "Accessed Count: 13\n"
          ]
        }
      ],
      "source": [
        "#result print\n",
        "print(f\"Most frequently accessed endpoints: {most_accessed[0]}\")\n",
        "print(f\"Accessed Count: {most_accessed[1]}\")"
      ]
    },
    {
      "cell_type": "markdown",
      "id": "cecf4625",
      "metadata": {
        "id": "cecf4625"
      },
      "source": [
        "## Detect suspicious activity"
      ]
    },
    {
      "cell_type": "code",
      "execution_count": null,
      "id": "d54339a9",
      "metadata": {
        "id": "d54339a9"
      },
      "outputs": [],
      "source": [
        "threshold = 10"
      ]
    },
    {
      "cell_type": "code",
      "execution_count": null,
      "id": "39718ad1",
      "metadata": {
        "id": "39718ad1"
      },
      "outputs": [],
      "source": [
        "#log entries with HTTP status code 401 or message \"Invalid credentials\""
      ]
    },
    {
      "cell_type": "code",
      "execution_count": null,
      "id": "b9252b09",
      "metadata": {
        "id": "b9252b09"
      },
      "outputs": [],
      "source": [
        "failed_login_pattern = r'\\b401\\b|Invalid credentials'"
      ]
    },
    {
      "cell_type": "code",
      "execution_count": null,
      "id": "d196cc1b",
      "metadata": {
        "id": "d196cc1b"
      },
      "outputs": [],
      "source": [
        "failed_ip = [\n",
        "    re.search(r'\\b(?:[0-9]{1,3}\\.){3}[0-9]{1,3}\\b',i).group()\n",
        "    for i in lines if re.search(failed_login_pattern,i)\n",
        "]"
      ]
    },
    {
      "cell_type": "code",
      "execution_count": null,
      "id": "32a2e864",
      "metadata": {
        "id": "32a2e864"
      },
      "outputs": [],
      "source": [
        "#count failed ligin attempts per ip"
      ]
    },
    {
      "cell_type": "code",
      "execution_count": null,
      "id": "206bed4c",
      "metadata": {
        "id": "206bed4c"
      },
      "outputs": [],
      "source": [
        "failed_counts = Counter(failed_ip)"
      ]
    },
    {
      "cell_type": "code",
      "execution_count": null,
      "id": "d983459e",
      "metadata": {
        "id": "d983459e"
      },
      "outputs": [],
      "source": [
        "#ip exceeding threshold"
      ]
    },
    {
      "cell_type": "code",
      "execution_count": null,
      "id": "f9a582b2",
      "metadata": {
        "id": "f9a582b2"
      },
      "outputs": [],
      "source": [
        "suspicious_ip = {ip: count for ip,count in failed_counts.items() if count > threshold}"
      ]
    },
    {
      "cell_type": "code",
      "execution_count": null,
      "id": "98accd9d",
      "metadata": {
        "id": "98accd9d"
      },
      "outputs": [],
      "source": [
        "#print results"
      ]
    },
    {
      "cell_type": "code",
      "execution_count": null,
      "id": "b95acc6b",
      "metadata": {
        "id": "b95acc6b",
        "outputId": "6c523f71-c687-4490-e833-d04b9cdb2cbf"
      },
      "outputs": [
        {
          "name": "stdout",
          "output_type": "stream",
          "text": [
            "No IPs exceeded the threshold of 10 failed login attempts.\n"
          ]
        }
      ],
      "source": [
        "if suspicious_ip:\n",
        "    print(f\"Suspicious IPs with more than {threshold} failed login attempts.\")\n",
        "    print(f\"{'IP Address':<20} {'Failed Attempts'}\")\n",
        "    print(\"=\" * 40)\n",
        "    for ip,count in suspicious_ip.items():\n",
        "        print(f\"{ip:<20} {count}\")\n",
        "else:\n",
        "    print(f\"No IPs exceeded the threshold of {threshold} failed login attempts.\")"
      ]
    },
    {
      "cell_type": "markdown",
      "id": "403c96db",
      "metadata": {
        "id": "403c96db"
      },
      "source": [
        "## csv file"
      ]
    },
    {
      "cell_type": "code",
      "execution_count": null,
      "id": "462cee29",
      "metadata": {
        "id": "462cee29",
        "outputId": "dae79147-2b00-4d66-c45f-3cb0277cc9ba"
      },
      "outputs": [
        {
          "name": "stdout",
          "output_type": "stream",
          "text": [
            "\n",
            "Results saved to 'log_analysis_results.csv'\n"
          ]
        }
      ],
      "source": [
        "with open(\"log_analysis_results.csv\",'w',newline='') as csvfile:\n",
        "    writer = csv.writer(csvfile)\n",
        "\n",
        "\n",
        "    writer.writerow([\"Requests Per IP\"])\n",
        "    writer.writerow([\"IP Address\", \"Request Count\"])\n",
        "    for ip, count in ip_count.items():\n",
        "        writer.writerow([ip, count])\n",
        "\n",
        "    writer.writerow([])\n",
        "\n",
        "    writer.writerow([\"Most Accessed Endpoint\"])\n",
        "    writer.writerow([\"Endpoint\",\"Access Count\"])\n",
        "    writer.writerow(most_accessed)\n",
        "\n",
        "    writer.writerow([])\n",
        "\n",
        "\n",
        "    writer.writerow([\"Suspicious Activity\"])\n",
        "    writer.writerow([\"IP Address\", \"Failed LOgin Count\"])\n",
        "    for ip, count in suspicious_ip.items():\n",
        "        writer.writerow([ip, count])\n",
        "print(\"\\nResults saved to 'log_analysis_results.csv'\")"
      ]
    }
  ],
  "metadata": {
    "kernelspec": {
      "display_name": "Python 3 (ipykernel)",
      "language": "python",
      "name": "python3"
    },
    "language_info": {
      "codemirror_mode": {
        "name": "ipython",
        "version": 3
      },
      "file_extension": ".py",
      "mimetype": "text/x-python",
      "name": "python",
      "nbconvert_exporter": "python",
      "pygments_lexer": "ipython3",
      "version": "3.11.5"
    },
    "colab": {
      "provenance": [],
      "include_colab_link": true
    }
  },
  "nbformat": 4,
  "nbformat_minor": 5
}